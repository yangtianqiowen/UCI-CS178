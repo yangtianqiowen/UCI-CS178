{
 "cells": [
  {
   "cell_type": "code",
   "execution_count": 2,
   "metadata": {},
   "outputs": [],
   "source": [
    "import numpy as np\n",
    "import matplotlib.pyplot as plt\n",
    "from scipy import linalg\n",
    "from sklearn.preprocessing import StandardScaler\n",
    "%matplotlib inline\n",
    "FIG_SIZE = (10, 5) \n",
    "plt.rcParams['figure.figsize'] = FIG_SIZE"
   ]
  },
  {
   "cell_type": "markdown",
   "metadata": {},
   "source": [
    "# Problem 1: Decision Trees"
   ]
  },
  {
   "cell_type": "markdown",
   "metadata": {},
   "source": [
    "Let's first setup our dataset: "
   ]
  },
  {
   "cell_type": "code",
   "execution_count": 50,
   "metadata": {},
   "outputs": [],
   "source": [
    "data = np.array([[0,0,1,1,0, -1],\n",
    "                 [1,1,0,1,0, -1],\n",
    "                 [0,1,1,1,1, -1],\n",
    "                 [1,1,1,1,0, -1],\n",
    "                 [0,1,0,0,0, -1],\n",
    "                 [1,0,1,1,1,  1],\n",
    "                 [0,0,1,0,0,  1],\n",
    "                 [1,0,0,0,0,  1],\n",
    "                 [1,0,1,1,0,  1],\n",
    "                 [1,1,1,1,1, -1] ]);\n",
    "X = data[:, :-1]\n",
    "y = data[:, -1]"
   ]
  },
  {
   "cell_type": "markdown",
   "metadata": {},
   "source": [
    "## Entropy "
   ]
  },
  {
   "cell_type": "code",
   "execution_count": 51,
   "metadata": {},
   "outputs": [
    {
     "name": "stdout",
     "output_type": "stream",
     "text": [
      "H(y) = 0.9709505944546686 bits\n"
     ]
    }
   ],
   "source": [
    "import math\n",
    "def entropy(y):\n",
    "    p = np.mean(y==1) # Compute the probability of y = 1   \n",
    "    if p == 0 or p == 1: # If the probability of either class is 1 H(y) = 0\n",
    "        return 0\n",
    "    else:\n",
    "        return -(p*math.log2(p) + (1-p)*math.log2(1-p))  # equation for H(y) in terms of p \n",
    "print(\"H(y) = {} bits\".format(entropy(y)))"
   ]
  },
  {
   "cell_type": "markdown",
   "metadata": {},
   "source": [
    "## Information Gain"
   ]
  },
  {
   "cell_type": "code",
   "execution_count": 65,
   "metadata": {},
   "outputs": [
    {
     "name": "stdout",
     "output_type": "stream",
     "text": [
      "[0.0464393446710154, 0.6099865470109874, 0.0058021490143456145, 0.09127744624168, 0.0058021490143456145]\n"
     ]
    }
   ],
   "source": [
    "def info_gain(x, y):\n",
    "    ig = [0.0] * 5 # Setup an output list\n",
    "    ent = entropy(y) # Compute the original entropy\n",
    "    for i in range(5):\n",
    "        x_i = x[:,i] # Select the i-th feature of each observation \n",
    "        p_x_i = np.mean(x_i)# Compute the probability that feature i == 1\n",
    "        if p_x_i == 0 or p_x_i == 1:\n",
    "            continue\n",
    "        # Compute the conditional entropy H(Y|X)\n",
    "        cond_ent =p_x_i*entropy(y[x_i==1])+(1-p_x_i)*entropy(y[x_i==0])\n",
    "        ig[i] =ent-cond_ent # Store the information gain \n",
    "    return ig\n",
    "print(info_gain(X, y))"
   ]
  },
  {
   "cell_type": "markdown",
   "metadata": {},
   "source": [
    "So, we should select the 2nd feature."
   ]
  },
  {
   "cell_type": "markdown",
   "metadata": {},
   "source": [
    "## Decision Tree"
   ]
  },
  {
   "cell_type": "code",
   "execution_count": 67,
   "metadata": {},
   "outputs": [
    {
     "name": "stdout",
     "output_type": "stream",
     "text": [
      "Splitting on feature 2:\n",
      "Left data:\n",
      "[[ 0  0  1  1  0 -1]\n",
      " [ 1  0  1  1  1  1]\n",
      " [ 0  0  1  0  0  1]\n",
      " [ 1  0  0  0  0  1]\n",
      " [ 1  0  1  1  0  1]]\n",
      "Right data:\n",
      "[[ 1  1  0  1  0 -1]\n",
      " [ 0  1  1  1  1 -1]\n",
      " [ 1  1  1  1  0 -1]\n",
      " [ 0  1  0  0  0 -1]\n",
      " [ 1  1  1  1  1 -1]]\n"
     ]
    }
   ],
   "source": [
    "# Split on feature ...:\n",
    "print(\"Splitting on feature 2:\")\n",
    "print(\"Left data:\") # data where feature ... is 0 \n",
    "print(data[X[:,1]==0,:])\n",
    "print(\"Right data:\") # data where feature ... is 1 \n",
    "print(data[X[:,1]==1,:])"
   ]
  },
  {
   "cell_type": "markdown",
   "metadata": {},
   "source": [
    "On the right data, we will always predict \"-1\". On the left data, we’ll need to split again. You can see by inspection that the next best feature is the first or you can recompute it as above:"
   ]
  },
  {
   "cell_type": "code",
   "execution_count": 69,
   "metadata": {},
   "outputs": [
    {
     "name": "stdout",
     "output_type": "stream",
     "text": [
      "[0.3219280948873623, 0.0, 0.07290559532005603, 0.17095059445466865, 0.07290559532005603]\n"
     ]
    }
   ],
   "source": [
    "data_left = data[X[:, 1] == 0, :]\n",
    "X_left, y_left = data_left[:, :-1], data_left[:, -1]\n",
    "print(info_gain(X_left, y_left))"
   ]
  },
  {
   "cell_type": "code",
   "execution_count": 73,
   "metadata": {},
   "outputs": [
    {
     "name": "stdout",
     "output_type": "stream",
     "text": [
      "Splitting left data on feature 1:\n",
      "Left data:\n",
      "[[ 0  0  1  1  0 -1]\n",
      " [ 0  0  1  0  0  1]]\n",
      "Right data:\n",
      "[[1 0 1 1 1 1]\n",
      " [1 0 0 0 0 1]\n",
      " [1 0 1 1 0 1]]\n"
     ]
    }
   ],
   "source": [
    "print(\"Splitting left data on feature 1:\")\n",
    "print(\"Left data:\") # data_left where feature ... is 0 \n",
    "print(data_left[X_left[:,0]==0,:])\n",
    "print(\"Right data:\") # data_left where feature ... is 1 \n",
    "print(data_left[X_left[:,0]==1,:])"
   ]
  },
  {
   "cell_type": "markdown",
   "metadata": {},
   "source": [
    "On the right data, we always predict \"+1\". On the left data, we can see that only forth data is different and decide if reading or not"
   ]
  },
  {
   "cell_type": "markdown",
   "metadata": {},
   "source": [
    "So the final rule is:"
   ]
  },
  {
   "cell_type": "code",
   "execution_count": 74,
   "metadata": {},
   "outputs": [],
   "source": [
    "# if(long):\n",
    "#     discard\n",
    "# else:\n",
    "#     if(known):\n",
    "#         read\n",
    "#     else:\n",
    "#         if(grade):\n",
    "#             discard\n",
    "#         else:\n",
    "#             read           "
   ]
  },
  {
   "cell_type": "markdown",
   "metadata": {},
   "source": [
    "# Problem 2: EigenFaces"
   ]
  },
  {
   "cell_type": "markdown",
   "metadata": {},
   "source": [
    "## Part 1"
   ]
  },
  {
   "cell_type": "code",
   "execution_count": 84,
   "metadata": {},
   "outputs": [
    {
     "data": {
      "text/plain": [
       "<matplotlib.image.AxesImage at 0x1a1f3a3748>"
      ]
     },
     "execution_count": 84,
     "metadata": {},
     "output_type": "execute_result"
    },
    {
     "data": {
      "image/png": "[encoded data removed]",
      "text/plain": [
       "<Figure size 432x288 with 1 Axes>"
      ]
     },
     "metadata": {
      "needs_background": "light"
     },
     "output_type": "display_data"
    }
   ],
   "source": [
    "# Load face dataset\n",
    "X = np.genfromtxt(\"faces.txt\",delimiter=None)\n",
    "\n",
    "# Remove the mean\n",
    "mu = np.mean(X,axis=0) #find mean face\n",
    "X0 = X-mu #subtract mean face\n",
    "\n",
    "# Plot the mean face\n",
    "plt.figure()\n",
    "mean_face = np.reshape(mu, (24,24))\n",
    "plt.imshow(mean_face.T, cmap=\"gray\")"
   ]
  },
  {
   "cell_type": "markdown",
   "metadata": {},
   "source": [
    "## Part 2: SVD"
   ]
  },
  {
   "cell_type": "code",
   "execution_count": 111,
   "metadata": {},
   "outputs": [
    {
     "name": "stdout",
     "output_type": "stream",
     "text": [
      "(4916, 576) (576, 576)\n"
     ]
    }
   ],
   "source": [
    "U, S, V = linalg.svd(X0,full_matrices=False)\n",
    "W = U.dot(np.diag(S)).dot(V)\n",
    "print(W.shape, V.shape)"
   ]
  },
  {
   "cell_type": "code",
   "execution_count": 92,
   "metadata": {},
   "outputs": [
    {
     "data": {
      "text/plain": [
       "(4916, 576)"
      ]
     },
     "execution_count": 92,
     "metadata": {},
     "output_type": "execute_result"
    }
   ],
   "source": [
    "X.shape"
   ]
  },
  {
   "cell_type": "markdown",
   "metadata": {},
   "source": [
    "## Part 3"
   ]
  },
  {
   "cell_type": "code",
   "execution_count": 112,
   "metadata": {},
   "outputs": [
    {
     "data": {
      "text/plain": [
       "(0, 10, 0, 3000)"
      ]
     },
     "execution_count": 112,
     "metadata": {},
     "output_type": "execute_result"
    },
    {
     "data": {
      "image/png": "[encoded data removed]",
      "text/plain": [
       "<Figure size 432x288 with 1 Axes>"
      ]
     },
     "metadata": {
      "needs_background": "light"
     },
     "output_type": "display_data"
    }
   ],
   "source": [
    "errors = []\n",
    "for K in range(11):\n",
    "    X0_hat = U[:,0:K].dot(np.diag(S[0:K])).dot(V[0:K,:])\n",
    "    errors.append(np.mean((W-X0_hat) ** 2))#mse between X0 and X0_hat\n",
    "\n",
    "plt.plot(range(11),errors,'r-',linewidth=4)\n",
    "plt.axis((0,10,0,3000))"
   ]
  },
  {
   "cell_type": "markdown",
   "metadata": {},
   "source": [
    "## Part 4"
   ]
  },
  {
   "cell_type": "code",
   "execution_count": 113,
   "metadata": {},
   "outputs": [
    {
     "data": {
      "text/plain": [
       "<Figure size 432x288 with 0 Axes>"
      ]
     },
     "metadata": {},
     "output_type": "display_data"
    },
    {
     "data": {
      "image/png": "[encoded data removed]",
      "text/plain": [
       "<Figure size 432x288 with 2 Axes>"
      ]
     },
     "metadata": {
      "needs_background": "light"
     },
     "output_type": "display_data"
    },
    {
     "data": {
      "text/plain": [
       "<Figure size 432x288 with 0 Axes>"
      ]
     },
     "metadata": {},
     "output_type": "display_data"
    },
    {
     "data": {
      "image/png": "[encoded data removed]",
      "text/plain": [
       "<Figure size 432x288 with 2 Axes>"
      ]
     },
     "metadata": {
      "needs_background": "light"
     },
     "output_type": "display_data"
    },
    {
     "data": {
      "text/plain": [
       "<Figure size 432x288 with 0 Axes>"
      ]
     },
     "metadata": {},
     "output_type": "display_data"
    },
    {
     "data": {
      "image/png": "[encoded data removed]",
      "text/plain": [
       "<Figure size 432x288 with 2 Axes>"
      ]
     },
     "metadata": {
      "needs_background": "light"
     },
     "output_type": "display_data"
    }
   ],
   "source": [
    "# Let's look at how the faces vary along each principal component\n",
    "W = U.dot(np.diag(S))\n",
    "for k in range(3):\n",
    "    alpha = 2*np.median( np.abs( W[:,k] )); #scaler \n",
    "    im1 = np.reshape(mu + alpha*V[k,:],(24,24)) #add PC to the mean\n",
    "    im2 = np.reshape(mu - alpha*V[k,:] ,(24,24)) #subtract PC to the mean \n",
    "    plt.figure();\n",
    "    f,(ax1,ax2) = plt.subplots(1,2); \n",
    "    ax1.imshow(im1.T, cmap=\"gray\"); \n",
    "    ax2.imshow(im2.T, cmap=\"gray\");"
   ]
  },
  {
   "cell_type": "markdown",
   "metadata": {},
   "source": [
    "## Part 5:"
   ]
  },
  {
   "cell_type": "code",
   "execution_count": 115,
   "metadata": {},
   "outputs": [
    {
     "data": {
      "text/plain": [
       "<Figure size 432x288 with 0 Axes>"
      ]
     },
     "metadata": {},
     "output_type": "display_data"
    },
    {
     "data": {
      "image/png": "[encoded data removed]",
      "text/plain": [
       "<Figure size 432x288 with 5 Axes>"
      ]
     },
     "metadata": {
      "needs_background": "light"
     },
     "output_type": "display_data"
    },
    {
     "data": {
      "text/plain": [
       "<Figure size 432x288 with 0 Axes>"
      ]
     },
     "metadata": {},
     "output_type": "display_data"
    },
    {
     "data": {
      "image/png": "[encoded data removed]",
      "text/plain": [
       "<Figure size 432x288 with 5 Axes>"
      ]
     },
     "metadata": {
      "needs_background": "light"
     },
     "output_type": "display_data"
    }
   ],
   "source": [
    "# Reconstruct two faces using a few components\n",
    "for i in [24,35]: \n",
    "    im = X[i,:];\n",
    "    im = np.reshape(im, (24,24));\n",
    "    plt.figure()\n",
    "    f,ax = plt.subplots(1,5);\n",
    "    ax[0].imshow(im.T, cmap=\"gray\"); #show original image \n",
    "    for j,k in enumerate([5,10,50,100]):\n",
    "        im = mu+W[i:i+1,0:k].dot(V[0:k,:]) #reconstruct using k principal components \n",
    "        im = np.reshape(im,(24,24))# and reshape im to 24x24\n",
    "        ax[j+1].imshow(im.T, cmap=\"gray\");"
   ]
  },
  {
   "cell_type": "markdown",
   "metadata": {},
   "source": [
    "## Part 6"
   ]
  },
  {
   "cell_type": "code",
   "execution_count": 130,
   "metadata": {},
   "outputs": [
    {
     "data": {
      "image/png": "[encoded data removed]",
      "text/plain": [
       "<Figure size 720x720 with 1 Axes>"
      ]
     },
     "metadata": {
      "needs_background": "light"
     },
     "output_type": "display_data"
    }
   ],
   "source": [
    "idx = np.random.choice(576,25)# sample 25 images without replacement using np.random.choice \n",
    "coord = StandardScaler().fit_transform(W[:, :2])\n",
    "plt.figure(figsize = (10, 10))\n",
    "for i in idx:\n",
    "    loc = (coord[i,0],coord[i,0]+0.5, coord[i,1],coord[i,1]+0.5)# compute where to place image (scaled W values) & size \n",
    "    img = np.reshape( X[i,:], (24,24) )# reshape to square\n",
    "    plt.imshow( img.T , cmap=\"gray\", extent=loc ) # draw each image \n",
    "    plt.axis( (-3,3,-3,3) ) # set axis to a reasonable scale\n",
    "    "
   ]
  },
  {
   "cell_type": "markdown",
   "metadata": {},
   "source": [
    "# Problem 3: Statement of Collaboration "
   ]
  },
  {
   "cell_type": "markdown",
   "metadata": {},
   "source": [
    "For doing Homework 4, I use the discussion file as the guide and follow the instruction step by step. Also, I checked the piazza question posts for doing problem 2.4 and 2.5. I went to a study group with Wanjing Zhang and Jiaxiang Wang to discuss the details."
   ]
  },
  {
   "cell_type": "code",
   "execution_count": null,
   "metadata": {},
   "outputs": [],
   "source": []
  }
 ],
 "metadata": {
  "kernelspec": {
   "display_name": "Python 3",
   "language": "python",
   "name": "python3"
  },
  "language_info": {
   "codemirror_mode": {
    "name": "ipython",
    "version": 3
   },
   "file_extension": ".py",
   "mimetype": "text/x-python",
   "name": "python",
   "nbconvert_exporter": "python",
   "pygments_lexer": "ipython3",
   "version": "3.7.1"
  }
 },
 "nbformat": 4,
 "nbformat_minor": 2
}
